{
  "nbformat": 4,
  "nbformat_minor": 0,
  "metadata": {
    "colab": {
      "provenance": [],
      "collapsed_sections": [],
      "toc_visible": true
    },
    "kernelspec": {
      "name": "python3",
      "display_name": "Python 3"
    },
    "language_info": {
      "name": "python"
    }
  },
  "cells": [
    {
      "cell_type": "markdown",
      "metadata": {
        "id": "mIc-oPXbzJfO"
      },
      "source": [
        "# for statement\n",
        "\n",
        "Objectives:\n",
        "\n",
        "1. Learn how to use for and its relevant statements."
      ]
    },
    {
      "cell_type": "markdown",
      "metadata": {
        "id": "y20OZbk_zcku"
      },
      "source": [
        "**1. for loop:** A for loop in python is used for iterating over a collection of objects \n",
        " The structure of for loop is:\n",
        "\n",
        "\n",
        "```\n",
        "for <var_item> in <collections>:\n",
        "  statement1 # within for loop\n",
        "  statement2 # within for loop\n",
        "statement3 # outside for loop --executed after when for loop execution has ended\n",
        "```\n",
        "\n",
        "\n"
      ]
    },
    {
      "cell_type": "code",
      "metadata": {
        "id": "hP9Fcw9q0hlh",
        "colab": {
          "base_uri": "https://localhost:8080/"
        },
        "outputId": "aa9f50ca-de27-448b-a71c-b003e369776c"
      },
      "source": [
        "list_a = [20,34,560]\n",
        "for item in list_a:\n",
        "  print(item)\n",
        "print('For loop has ended!')"
      ],
      "execution_count": null,
      "outputs": [
        {
          "output_type": "stream",
          "text": [
            "20\n",
            "34\n",
            "560\n",
            "For loop has ended!\n"
          ],
          "name": "stdout"
        }
      ]
    },
    {
      "cell_type": "code",
      "source": [
        "set_a = {20,34,560}\n",
        "for item in set_a:\n",
        "  print(item)\n",
        "print('For loop has ended!')"
      ],
      "metadata": {
        "colab": {
          "base_uri": "https://localhost:8080/"
        },
        "id": "UfqSIJDtx32b",
        "outputId": "c0977f97-24a1-43fb-8ab9-a975eb9580c8"
      },
      "execution_count": null,
      "outputs": [
        {
          "output_type": "stream",
          "name": "stdout",
          "text": [
            "560\n",
            "34\n",
            "20\n",
            "For loop has ended!\n"
          ]
        }
      ]
    },
    {
      "cell_type": "code",
      "source": [
        "id_name_dict = {'Bobs':\"1234\",'Alice':\"5678\",'John':\"password\"}\n",
        "\n",
        "for item in id_name_dict.items():\n",
        "  print(item)  \n"
      ],
      "metadata": {
        "colab": {
          "base_uri": "https://localhost:8080/"
        },
        "id": "acLwYedBx_jS",
        "outputId": "8430ec5e-8113-4ae9-cf9c-95e5da1a1447"
      },
      "execution_count": null,
      "outputs": [
        {
          "output_type": "stream",
          "name": "stdout",
          "text": [
            "('Bobs', '1234')\n",
            "('Alice', '5678')\n",
            "('John', 'password')\n"
          ]
        }
      ]
    },
    {
      "cell_type": "code",
      "source": [
        "id_name_dict = {'Bobs':\"1234\",'Alice':\"5678\",'John':\"password\"}\n",
        "for item in id_name_dict:\n",
        "  print(item)\n"
      ],
      "metadata": {
        "colab": {
          "base_uri": "https://localhost:8080/"
        },
        "id": "yJYh5GtMyu0D",
        "outputId": "fb3e6fce-1dd4-4c60-bc96-5f74cd65cf99"
      },
      "execution_count": null,
      "outputs": [
        {
          "output_type": "stream",
          "name": "stdout",
          "text": [
            "Bobs\n",
            "Alice\n",
            "John\n"
          ]
        }
      ]
    },
    {
      "cell_type": "markdown",
      "metadata": {
        "id": "HxGHEXLa1Oia"
      },
      "source": [
        "**2. Nested for loop:** A nested loop is a loop inside a loop. The \"inner loop\" will be executed one time for each iteration of the \"outer loop\"\n",
        "\n",
        "```\n",
        "for <var_item> in <collections>: # outer loop\n",
        "  statement1 # within outer loop\n",
        "  statement2 # within outer loop\n",
        "  for <var_item1> in <collections1>: # innner lop\n",
        "    statement3 # within innner loop\n",
        "    statement4 # within innner loop\n",
        "  statement5 # within outer loop\n",
        "\n",
        "statement6 # outside while loop --executed after when while loop execution has ended\n",
        "```\n"
      ]
    },
    {
      "cell_type": "code",
      "metadata": {
        "id": "IIBzu0yj1JoC"
      },
      "source": [
        "list_a = [20,34,560]\n",
        "list_b = ['a','b','c']\n",
        "for item in list_a:\n",
        "  print(item)\n",
        "  for item1 in list_b:\n",
        "    print(item1)\n",
        "print('For loop has ended!')"
      ],
      "execution_count": null,
      "outputs": []
    },
    {
      "cell_type": "markdown",
      "metadata": {
        "id": "vZvOn-QU2GYZ"
      },
      "source": [
        "**for loop statement**\n",
        "1. break: this statement is used to exit the current iterative loop  \n",
        "2. continue:this statement is used to stop the current iteration and go back to condition checking statement. \n",
        "3. else: the code inside else block runs when the loop is finished. This code block will not run when the break statement is used to exit the loop)\n",
        "4. pass: this is a null statement. The interpreter does not ignore it, but it performs a no-operation (NOP).\n",
        "\n"
      ]
    },
    {
      "cell_type": "code",
      "metadata": {
        "id": "nwWkDUjI4SoC",
        "colab": {
          "base_uri": "https://localhost:8080/"
        },
        "outputId": "f79162a5-04f6-4059-bc17-5320ea8cc28f"
      },
      "source": [
        "# Illustration for break in for loop\n",
        "list_a = [10, 20,-1,560]\n",
        "for a in list_a:\n",
        "  if a <0:\n",
        "    break\n",
        "  print(a)  \n",
        "print('Loop has ended!')"
      ],
      "execution_count": null,
      "outputs": [
        {
          "output_type": "stream",
          "text": [
            "10\n",
            "20\n",
            "Loop has ended!\n"
          ],
          "name": "stdout"
        }
      ]
    },
    {
      "cell_type": "code",
      "metadata": {
        "id": "VM1Po_Ge4cu9",
        "colab": {
          "base_uri": "https://localhost:8080/"
        },
        "outputId": "9e8e4b58-6a76-4985-b2ce-5b8cc33c88a1"
      },
      "source": [
        "# Illustration for continue in for loop\n",
        "list_a = [10, 20,-1,560]\n",
        "for a in list_a:\n",
        "  if a <0:\n",
        "    continue\n",
        "  print(a)  \n",
        "print('Loop has ended!')"
      ],
      "execution_count": null,
      "outputs": [
        {
          "output_type": "stream",
          "text": [
            "10\n",
            "20\n",
            "560\n",
            "Loop has ended!\n"
          ],
          "name": "stdout"
        }
      ]
    },
    {
      "cell_type": "code",
      "metadata": {
        "id": "Sj7I1bja4pzU"
      },
      "source": [
        "# Illustration for else in for loop\n",
        "list_a = [10, 20,-1,560]\n",
        "for a in list_a:\n",
        "  print(a) \n",
        "#  if a <0:\n",
        "#    break\n",
        "else:\n",
        "  print('Else statement')\n",
        "\n",
        "print('Loop has ended!')"
      ],
      "execution_count": null,
      "outputs": []
    },
    {
      "cell_type": "code",
      "metadata": {
        "id": "SMMZ0kcJ7qp6"
      },
      "source": [
        "list_a = [20,34,560]\n",
        "list_b = ['a','b','c']\n",
        "for item in list_a:\n",
        "  print(item)\n",
        "  for item1 in list_b:\n",
        "    pass\n",
        "print('For loop has ended!')"
      ],
      "execution_count": null,
      "outputs": []
    },
    {
      "cell_type": "markdown",
      "metadata": {
        "id": "XvFYtl0m7zPn"
      },
      "source": [
        "**range function**:  this function could be used as an iterative index for each element in a collection sequence.\n",
        "- range(i): create a sequence of numbers from 0 to i-1 (i numbers)\n",
        "  - 0  : the first index of the ordered collection datatype\n",
        "\n",
        "  - i-1: the last index of the ordered collection datatype\n",
        "\n",
        "- range(start, stop, step(optional): create a sequence of numbers from 0 to start to stop-1 with step interval\n"
      ]
    },
    {
      "cell_type": "code",
      "metadata": {
        "colab": {
          "base_uri": "https://localhost:8080/"
        },
        "id": "1aeZKV698ytA",
        "outputId": "44277acc-3869-4f06-ca9a-80841eb962ca"
      },
      "source": [
        "print(list(range(5)))\n",
        "print(list(range(1,10,2)))\n"
      ],
      "execution_count": null,
      "outputs": [
        {
          "output_type": "stream",
          "text": [
            "[0, 1, 2, 3, 4]\n",
            "[1, 3, 5, 7, 9]\n"
          ],
          "name": "stdout"
        }
      ]
    },
    {
      "cell_type": "markdown",
      "source": [
        "**Size of Range object vs Tuple**"
      ],
      "metadata": {
        "id": "RhOahR5fowJs"
      }
    },
    {
      "cell_type": "code",
      "source": [
        "tuple_= tuple(i for i in range(100))\n",
        "range_ = range(0,100)\n",
        "\n",
        "import sys\n",
        "print(sys.getsizeof(tuple_))\n",
        "print(sys.getsizeof(range_))"
      ],
      "metadata": {
        "id": "z82Z6Cvzotou",
        "outputId": "36c42bc4-4c50-498a-8043-7d0a5cc1cd4a",
        "colab": {
          "base_uri": "https://localhost:8080/"
        }
      },
      "execution_count": null,
      "outputs": [
        {
          "output_type": "stream",
          "name": "stdout",
          "text": [
            "856\n",
            "48\n"
          ]
        }
      ]
    },
    {
      "cell_type": "markdown",
      "metadata": {
        "id": "NoTwM9vXvpnR"
      },
      "source": [
        "# Exercise 1 (1 pt)\n",
        "Write code to split the following list into non-negative number list and negative number list.\n",
        "\n",
        "\n",
        "```\n",
        "mylist = [1,-5,74,4,36,-4,0, 2,8, 9,15]\n",
        "\n",
        "```\n",
        "\n"
      ]
    },
    {
      "cell_type": "code",
      "metadata": {
        "id": "npqhSHKpyGP0",
        "colab": {
          "base_uri": "https://localhost:8080/"
        },
        "outputId": "b75d1ee0-768b-4041-b956-808f8fbacf9e"
      },
      "source": [
        "mylist = [1,-5,74,4,36,-4,0, 2,8, 9,15]\n",
        "non_negative_list = []\n",
        "negative_list = []\n",
        "for i in mylist:\n",
        " if i < 0:\n",
        "   negative_list.append(i)\n",
        " else:\n",
        "   non_negative_list.append(i)\n",
        "print(negative_list)\n",
        "print(non_negative_list)"
      ],
      "execution_count": 2,
      "outputs": [
        {
          "output_type": "stream",
          "name": "stdout",
          "text": [
            "[-5, -4]\n",
            "[1, 74, 4, 36, 0, 2, 8, 9, 15]\n"
          ]
        }
      ]
    },
    {
      "cell_type": "markdown",
      "metadata": {
        "id": "iYTZBjQW1QZR"
      },
      "source": [
        "# Exercise 2 (1 pt)\n",
        "Write code to accept list input from user and find the minimum value in that list using for loop.\n",
        "\n",
        "**Examples:**\n",
        "```\n",
        "List: -8,0,1,4,-9,16\n",
        "Minimum value: -9\n",
        "```\n",
        "\n"
      ]
    },
    {
      "cell_type": "code",
      "source": [
        "user_list = input('list: ').split(',')\n",
        "user_list = [int(x) for x in user_list]\n",
        "min = user_list[0]\n",
        "for i in user_list:\n",
        "  if i < min:\n",
        "    min = i\n",
        "  pass\n",
        "print(user_list)\n",
        "print('Minimum value: ',min)"
      ],
      "metadata": {
        "colab": {
          "base_uri": "https://localhost:8080/"
        },
        "id": "wspz5OmyvCAJ",
        "outputId": "57ebc720-32a6-4ffe-bf6c-a4c7825931a9"
      },
      "execution_count": 18,
      "outputs": [
        {
          "output_type": "stream",
          "name": "stdout",
          "text": [
            "list: -8,0,1,4,-9,16\n",
            "[-8, 0, 1, 4, -9, 16]\n",
            "Minimum value:  -9\n"
          ]
        }
      ]
    },
    {
      "cell_type": "markdown",
      "metadata": {
        "id": "otMCbjexhEB4"
      },
      "source": [
        "# Exercise 3 (1 pt)\n",
        "Write code that prints each item and its corresponding type from the following list.\n",
        "\n",
        "\n",
        "**Examples:**\n",
        "```\n",
        "data = [['0171_apitsara', 100, 'A'], ['0159_', 68, 'C'], ['0212_Aschariyanee', 63, 'C'], ['0691_pimchanok', 72, 'B'], ['Takdanai', 89, 'A'], ['Korrathak', 85, 'A'], ['0558_Piampiya', 44, 'E'], ['Danasawin', 60, 'C'], ['0170_Anapat', 68, 'C'], ['201', 88, 'A'], ['0555_Tarnakij', 99, 'A'], ['0153_Yanapat', 41, 'E'], ['0688_Thanis', 43, 'E'], ['??????', 82, 'A'], ['0556_Bunadha', 84, 'A'], ['Rinlaphat', 100, 'A'], ['0166_Phuvis', 96, 'A'], ['0156_Nattapat', 100, 'A'], ['0168_Matheepat', 100, 'A'], ['0172_Itthikon', 53, 'D'], ['0155_Naphat', 63, 'C'], ['Arisara', 46, 'E'], ['0165_Panuwat', 57, 'D'], ['0163_Pornpimon', 91, 'A'], ['0162_Parintorn', 100, 'A'], ['0152_Jiraphat', 100, 'A'], ['0157_Nichakan', 100, 'A'], ['0160_Thanyanan', 64, 'C'], ['Dechdumrong', 78, 'B'], ['0173_Inthuorn', 87, 'A'], ['Sansinee', 57, 'D'], ['0207_Napat', 49, 'E'], ['0693_worakamon', 59, 'D'], ['0687_korrathak', 97, 'A'], ['0210_Werapat', 100, 'A'], ['0211_Akira', 42, 'E'], ['0208_Phantipha', 97, 'A'], ['0209_Peerapong', 86, 'A'], ['0161_benyatip', 100, 'A'], ['552_Nutraness', 100, 'A'], ['552_nutraness', 66, 'C'], ['0169_Sansinee', 41, 'E'], ['0694_suparluck', 96, 'A']]\n",
        "\n",
        "Output:\n",
        "{'A': 23, 'B': 2, 'C': 7, 'D': 4, 'E': 7}\n",
        "...\n",
        "```\n",
        "\n"
      ]
    },
    {
      "cell_type": "code",
      "source": [
        "\n",
        "data = [['0171_apitsara', 100, 'A'], ['0159_', 68, 'C'], ['0212_Aschariyanee', 63, 'C'], ['0691_pimchanok', 72, 'B'], ['Takdanai', 89, 'A'], ['Korrathak', 85, 'A'], ['0558_Piampiya', 44, 'E'], ['Danasawin', 60, 'C'], ['0170_Anapat', 68, 'C'], ['201', 88, 'A'], ['0555_Tarnakij', 99, 'A'], ['0153_Yanapat', 41, 'E'], ['0688_Thanis', 43, 'E'], ['??????', 82, 'A'], ['0556_Bunadha', 84, 'A'], ['Rinlaphat', 100, 'A'], ['0166_Phuvis', 96, 'A'], ['0156_Nattapat', 100, 'A'], ['0168_Matheepat', 100, 'A'], ['0172_Itthikon', 53, 'D'], ['0155_Naphat', 63, 'C'], ['Arisara', 46, 'E'], ['0165_Panuwat', 57, 'D'], ['0163_Pornpimon', 91, 'A'], ['0162_Parintorn', 100, 'A'], ['0152_Jiraphat', 100, 'A'], ['0157_Nichakan', 100, 'A'], ['0160_Thanyanan', 64, 'C'], ['Dechdumrong', 78, 'B'], ['0173_Inthuorn', 87, 'A'], ['Sansinee', 57, 'D'], ['0207_Napat', 49, 'E'], ['0693_worakamon', 59, 'D'], ['0687_korrathak', 97, 'A'], ['0210_Werapat', 100, 'A'], ['0211_Akira', 42, 'E'], ['0208_Phantipha', 97, 'A'], ['0209_Peerapong', 86, 'A'], ['0161_benyatip', 100, 'A'], ['552_Nutraness', 100, 'A'], ['552_nutraness', 66, 'C'], ['0169_Sansinee', 41, 'E'], ['0694_suparluck', 96, 'A']]\n",
        "countA = 0\n",
        "countB = 0\n",
        "countC = 0\n",
        "countD = 0\n",
        "countE = 0\n",
        "for i in range(0,len(data)):\n",
        " grade = data[i][2]\n",
        " if grade == 'A':\n",
        "   countA = countA + 1\n",
        " elif grade == 'B':\n",
        "   countB = countB + 1\n",
        " elif grade == 'C':\n",
        "   countC = countC + 1 \n",
        " elif grade == 'D':\n",
        "   countD = countC + 1 \n",
        " else:\n",
        "   countE = countE + 1\n",
        "gradecount = {'A' : countA , 'B' : countB, 'C' : countC,\n",
        "              'D' : countD, 'E' : countE}\n",
        "print(gradecount)"
      ],
      "metadata": {
        "colab": {
          "base_uri": "https://localhost:8080/"
        },
        "id": "HTwWr52RIHwn",
        "outputId": "a5c2e0ce-0bb6-4cb8-d486-00cfeb9abb32"
      },
      "execution_count": 4,
      "outputs": [
        {
          "output_type": "stream",
          "name": "stdout",
          "text": [
            "{'A': 23, 'B': 2, 'C': 7, 'D': 7, 'E': 7}\n"
          ]
        }
      ]
    },
    {
      "cell_type": "markdown",
      "metadata": {
        "id": "BSm1Wuss0yqL"
      },
      "source": [
        "# Exercise 4 (1 pt)\n",
        "Compute the room area for each room type and append to the list\n",
        "```\n",
        "room = {'A':['3 x 4'],'B':['3.5 x 5.2'],'C':['4.5 x 6.5'], \n",
        "'D':['8 x 11.2'], 'Common room':['11 x 14']   }\n",
        "\n",
        "Expected output:\n",
        "room = {'A':['3 x 4', 12],...}\n",
        "```\n"
      ]
    },
    {
      "cell_type": "code",
      "source": [
        "room = {'A':['3 x 4'],'B':['3.5 x 5.2'],'C':['4.5 x 6.5'], \n",
        "'D':['8 x 11.2'], 'Common room':['11 x 14']   }\n",
        "for i in room:\n",
        " area = room[i][0]\n",
        " num1,num2 = area.split('x')\n",
        " num1 = float(num1)\n",
        " num2 = float(num2)\n",
        " cal_area = num1*num2\n",
        " room[i].append(cal_area)\n",
        "print('room =',room)"
      ],
      "metadata": {
        "id": "GAyr4eHjjz6a",
        "colab": {
          "base_uri": "https://localhost:8080/"
        },
        "outputId": "bf864c0a-d4ee-4c30-de51-b8191a6b8504"
      },
      "execution_count": 32,
      "outputs": [
        {
          "output_type": "stream",
          "name": "stdout",
          "text": [
            "room = {'A': ['3 x 4', 12.0], 'B': ['3.5 x 5.2', 18.2], 'C': ['4.5 x 6.5', 29.25], 'D': ['8 x 11.2', 89.6], 'Common room': ['11 x 14', 154.0]}\n"
          ]
        }
      ]
    },
    {
      "cell_type": "markdown",
      "source": [
        "# Exercise 5 (2 pt): \n",
        "Use range function to create the following sequence\n",
        "1. 1,2,3,4,5,6,…,100\n",
        "\n",
        "2. 0,1,2,3,4,5\n",
        "\n",
        "3. -2-,1,0,1,2,3\n",
        "\n",
        "4. -25,-20,-15,-10,-5,0,5,10,15,20\n",
        "\n",
        "5. -21,-18,-15,-12,-9, -6\n",
        "\n",
        "6. 1, 4, 9, 16, 25, 36, 49\n",
        "\n",
        "7. 1, 10, 100, 1000, 10000, 100000"
      ],
      "metadata": {
        "id": "nIPmOy1Ok07C"
      }
    },
    {
      "cell_type": "code",
      "source": [
        "#1\n",
        "for i in range(1,101):\n",
        "  print(i,end=',')"
      ],
      "metadata": {
        "colab": {
          "base_uri": "https://localhost:8080/"
        },
        "id": "xuTCKWMnGJxH",
        "outputId": "049fa09e-3fbf-4398-a71c-fbf0602fd7aa"
      },
      "execution_count": 6,
      "outputs": [
        {
          "output_type": "stream",
          "name": "stdout",
          "text": [
            "1,2,3,4,5,6,7,8,9,10,11,12,13,14,15,16,17,18,19,20,21,22,23,24,25,26,27,28,29,30,31,32,33,34,35,36,37,38,39,40,41,42,43,44,45,46,47,48,49,50,51,52,53,54,55,56,57,58,59,60,61,62,63,64,65,66,67,68,69,70,71,72,73,74,75,76,77,78,79,80,81,82,83,84,85,86,87,88,89,90,91,92,93,94,95,96,97,98,99,100,"
          ]
        }
      ]
    },
    {
      "cell_type": "code",
      "source": [
        "#2\n",
        "for i in range(0,6):\n",
        "  print(i,end=',')"
      ],
      "metadata": {
        "colab": {
          "base_uri": "https://localhost:8080/"
        },
        "id": "KgiPGLWEF_Po",
        "outputId": "21ad1a3f-36cc-4c14-d3de-847b55680ac8"
      },
      "execution_count": 4,
      "outputs": [
        {
          "output_type": "stream",
          "name": "stdout",
          "text": [
            "0,1,2,3,4,5,"
          ]
        }
      ]
    },
    {
      "cell_type": "code",
      "source": [
        "#3\n",
        "for i in range(-2,4):\n",
        "  print(i,end=',')"
      ],
      "metadata": {
        "colab": {
          "base_uri": "https://localhost:8080/"
        },
        "id": "Dp0dLSDWFq-P",
        "outputId": "bdc7a8cd-c900-4b98-801c-909a5d12f061"
      },
      "execution_count": 5,
      "outputs": [
        {
          "output_type": "stream",
          "name": "stdout",
          "text": [
            "-2,-1,0,1,2,3,"
          ]
        }
      ]
    },
    {
      "cell_type": "code",
      "source": [
        "#4\n",
        "for i in range(-25,25,5):\n",
        " print(i,end=',')"
      ],
      "metadata": {
        "id": "0SGeFVNGkyaa",
        "colab": {
          "base_uri": "https://localhost:8080/"
        },
        "outputId": "28381c26-5dae-4752-b918-f8f5db9562b9"
      },
      "execution_count": 1,
      "outputs": [
        {
          "output_type": "stream",
          "name": "stdout",
          "text": [
            "-25,-20,-15,-10,-5,0,5,10,15,20,-21,-18,-15,-12,-9,-6,"
          ]
        }
      ]
    },
    {
      "cell_type": "code",
      "source": [
        "#5\n",
        "for i in range(-21,-3,3):\n",
        " print(i,end=',')"
      ],
      "metadata": {
        "colab": {
          "base_uri": "https://localhost:8080/"
        },
        "id": "LFKjMCdAFkxf",
        "outputId": "f5d45655-bd9e-4bec-9e6d-954218450cff"
      },
      "execution_count": 2,
      "outputs": [
        {
          "output_type": "stream",
          "name": "stdout",
          "text": [
            "-21,-18,-15,-12,-9,-6,"
          ]
        }
      ]
    },
    {
      "cell_type": "code",
      "source": [
        "#6\n",
        "for i in range(1,8):\n",
        "  i = i*i\n",
        "  print(i,end=',')"
      ],
      "metadata": {
        "colab": {
          "base_uri": "https://localhost:8080/"
        },
        "id": "gQsApTmgGSBJ",
        "outputId": "704c5986-b3ee-4921-8e91-27b79918c58c"
      },
      "execution_count": 7,
      "outputs": [
        {
          "output_type": "stream",
          "name": "stdout",
          "text": [
            "1,4,9,16,25,36,49,"
          ]
        }
      ]
    },
    {
      "cell_type": "code",
      "source": [
        "#7\n",
        "for i in range(1,7):\n",
        "  i = 10**(i-1)\n",
        "  print(i,end=',')"
      ],
      "metadata": {
        "colab": {
          "base_uri": "https://localhost:8080/"
        },
        "id": "gecrnopNGuCH",
        "outputId": "58e15bde-5a6f-4c1a-d4be-da7c0094074d"
      },
      "execution_count": 11,
      "outputs": [
        {
          "output_type": "stream",
          "name": "stdout",
          "text": [
            "1,10,100,1000,10000,100000,"
          ]
        }
      ]
    },
    {
      "cell_type": "markdown",
      "source": [
        "#Excercise 6 (1pt):\n",
        "Write code to iterate two lists simultaneously and create another list where each item is the list of two items from the two lists.\n",
        "\n",
        "\n",
        "```\n",
        "list1 = [\"Alan\", \"Bobs\", \"Dean\", \"Sally\"]\n",
        "list2 = [98, 70, 65, 78]\n",
        "\n",
        "Expected output:\n",
        "[[\"Alan\",98],[\"Bobs\",70],[\"Dean\",65],[\"Sally\",78]]\n",
        "```\n",
        "\n"
      ],
      "metadata": {
        "id": "OkSWGGxSoFrs"
      }
    },
    {
      "cell_type": "code",
      "source": [
        "list1 = [\"Alan\", \"Bobs\", \"Dean\", \"Sally\"]\n",
        "list2 = [98, 70, 65, 78]\n",
        "list3 = []\n",
        "list4 = []\n",
        "for i in range(len(list1)):\n",
        "    list4.append(list1[i])\n",
        "    list4.append(list2[i])\n",
        "    list3.append(list4)\n",
        "    list4 = []\n",
        "print(list3)"
      ],
      "metadata": {
        "id": "bEPEL3woPXs_",
        "colab": {
          "base_uri": "https://localhost:8080/"
        },
        "outputId": "51b28545-894a-4235-e920-8c0cf88f6cb5"
      },
      "execution_count": 33,
      "outputs": [
        {
          "output_type": "stream",
          "name": "stdout",
          "text": [
            "[['Alan', 98], ['Bobs', 70], ['Dean', 65], ['Sally', 78]]\n"
          ]
        }
      ]
    },
    {
      "cell_type": "markdown",
      "metadata": {
        "id": "ueZaO_SU2QxP"
      },
      "source": [
        "# Question 1 (1 pt)\n",
        "Write a Python program which iterates the integers from 1 to 50. For multiples of three print \"Fizz\" instead of the number and for the multiples of five print \"Buzz\". For numbers which are multiples of both three and five print \"FizzBuzz\".\n",
        "\n",
        "\n",
        "**Examples:**\n",
        "```\n",
        "1\n",
        "2\n",
        "fizz\n",
        "4\n",
        "buzz\n",
        "fizz\n",
        "7\n",
        "8\n",
        "fizz\n",
        "buzz\n",
        "11\n",
        "fizz\n",
        "13\n",
        "14\n",
        "FizzBuzz\n",
        "...\n",
        "```\n",
        "\n"
      ]
    },
    {
      "cell_type": "code",
      "metadata": {
        "id": "ProXhfs3hjf0",
        "colab": {
          "base_uri": "https://localhost:8080/"
        },
        "outputId": "597dd7d2-1467-4501-f639-1dd2f92aaa5f"
      },
      "source": [
        "for i in range(1,51,1):\n",
        "  if i % 3 == 0 and i % 5 ==0 :\n",
        "    print('fizzbuzz')\n",
        "  elif i % 3 == 0:\n",
        "    print('fizz')\n",
        "  elif i % 5 == 0:\n",
        "    print('buzz')\n",
        "  else:\n",
        "    pass\n",
        "  print(i)"
      ],
      "execution_count": 15,
      "outputs": [
        {
          "output_type": "stream",
          "name": "stdout",
          "text": [
            "1\n",
            "2\n",
            "fizz\n",
            "3\n",
            "4\n",
            "buzz\n",
            "5\n",
            "fizz\n",
            "6\n",
            "7\n",
            "8\n",
            "fizz\n",
            "9\n",
            "buzz\n",
            "10\n",
            "11\n",
            "fizz\n",
            "12\n",
            "13\n",
            "14\n",
            "fizzbuzz\n",
            "15\n",
            "16\n",
            "17\n",
            "fizz\n",
            "18\n",
            "19\n",
            "buzz\n",
            "20\n",
            "fizz\n",
            "21\n",
            "22\n",
            "23\n",
            "fizz\n",
            "24\n",
            "buzz\n",
            "25\n",
            "26\n",
            "fizz\n",
            "27\n",
            "28\n",
            "29\n",
            "fizzbuzz\n",
            "30\n",
            "31\n",
            "32\n",
            "fizz\n",
            "33\n",
            "34\n",
            "buzz\n",
            "35\n",
            "fizz\n",
            "36\n",
            "37\n",
            "38\n",
            "fizz\n",
            "39\n",
            "buzz\n",
            "40\n",
            "41\n",
            "fizz\n",
            "42\n",
            "43\n",
            "44\n",
            "fizzbuzz\n",
            "45\n",
            "46\n",
            "47\n",
            "fizz\n",
            "48\n",
            "49\n",
            "buzz\n",
            "50\n"
          ]
        }
      ]
    },
    {
      "cell_type": "markdown",
      "source": [
        "#Question 2 (1 pt)\n",
        "Write code to count the number of occurrences for each and every word in the paragraph and store it in count_list.\n",
        "\n",
        "Hint: https://www.programiz.com/python-programming/methods/list/count\n",
        "\n",
        "```\n",
        "For many qualitative researchers, looking at the \n",
        "specific word choices used by your research participants offers an important first step in exploring your data. You listen to or read your data over and over; you become immersed in it, trying to identify themes and connections. But it can also be very beneficial to simply create a list of the words they are using, count how often certain terms are being used, and examine the contexts in which those words appear. This seemingly simple exercise can allow the researcher to note themes worthy of further exploration, by allowing the language of your data to guide your interpretation.\n",
        "However, sorting and counting individual words by hand or with a spreadsheet or word file can require hours of tedious work. In Transana, the Word Frequency Report allows the researcher to take text or transcribed data, and easily generate a list of words used in your Documents, Transcripts, Quotes, or Clips, along with the number of times each word is used.\n",
        "```\n",
        "\n",
        "\n",
        "\n"
      ],
      "metadata": {
        "id": "U2wZfrtVL2TA"
      }
    },
    {
      "cell_type": "code",
      "source": [
        "paragraph = '''For many qualitative researchers, looking at the specific word choices used \n",
        "by your research participants offers an important first step in exploring your data. \n",
        "You listen to or read your data over and over; you become immersed in it, trying to identify themes and connections. \n",
        "But it can also be very beneficial to simply \n",
        "create a list of the words they are using, count how often certain terms are being used, \n",
        "and examine the contexts in which those words appear. '''\n",
        "\n",
        "word_list = paragraph.lower().replace('.','').replace(',','').split( )\n",
        "word_set = set(word_list)\n",
        "list_word_set = list(word_set)\n",
        "print(len(word_set),len(word_list))\n",
        "for i in word_set:\n",
        "  counter = word_list.count(i)\n",
        "  print(i,counter)"
      ],
      "metadata": {
        "colab": {
          "base_uri": "https://localhost:8080/"
        },
        "id": "lmgBxfYXNeyX",
        "outputId": "9c288f1e-051e-4099-a3de-844013dfee2b"
      },
      "execution_count": 44,
      "outputs": [
        {
          "output_type": "stream",
          "name": "stdout",
          "text": [
            "64 80\n",
            "your 3\n",
            "in 3\n",
            "for 1\n",
            "a 1\n",
            "contexts 1\n",
            "used 2\n",
            "it 2\n",
            "many 1\n",
            "qualitative 1\n",
            "specific 1\n",
            "step 1\n",
            "choices 1\n",
            "listen 1\n",
            "are 2\n",
            "very 1\n",
            "beneficial 1\n",
            "read 1\n",
            "the 3\n",
            "researchers 1\n",
            "which 1\n",
            "first 1\n",
            "over; 1\n",
            "being 1\n",
            "and 3\n",
            "identify 1\n",
            "to 3\n",
            "but 1\n",
            "examine 1\n",
            "offers 1\n",
            "important 1\n",
            "certain 1\n",
            "appear 1\n",
            "words 2\n",
            "count 1\n",
            "by 1\n",
            "an 1\n",
            "looking 1\n",
            "at 1\n",
            "trying 1\n",
            "those 1\n",
            "terms 1\n",
            "participants 1\n",
            "create 1\n",
            "themes 1\n",
            "or 1\n",
            "connections 1\n",
            "immersed 1\n",
            "become 1\n",
            "word 1\n",
            "simply 1\n",
            "list 1\n",
            "they 1\n",
            "often 1\n",
            "over 1\n",
            "research 1\n",
            "of 1\n",
            "using 1\n",
            "you 2\n",
            "also 1\n",
            "be 1\n",
            "data 2\n",
            "exploring 1\n",
            "can 1\n",
            "how 1\n"
          ]
        }
      ]
    },
    {
      "cell_type": "code",
      "source": [],
      "metadata": {
        "id": "MgU9R7ELxzvL"
      },
      "execution_count": null,
      "outputs": []
    }
  ]
}